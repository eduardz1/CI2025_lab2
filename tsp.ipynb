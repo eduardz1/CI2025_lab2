{
 "cells": [
  {
   "cell_type": "code",
   "execution_count": 1,
   "id": "3a0dcacf",
   "metadata": {},
   "outputs": [],
   "source": [
    "from itertools import combinations\n",
    "import numpy as np"
   ]
  },
  {
   "cell_type": "markdown",
   "id": "034efe17",
   "metadata": {},
   "source": [
    "## Simple Test Problem"
   ]
  },
  {
   "cell_type": "code",
   "execution_count": 3,
   "id": "193604ac",
   "metadata": {},
   "outputs": [],
   "source": [
    "CITIES = [\n",
    "    \"Rome\",\n",
    "    \"Milan\",\n",
    "    \"Naples\",\n",
    "    \"Turin\",\n",
    "    \"Palermo\",\n",
    "    \"Genoa\",\n",
    "    \"Bologna\",\n",
    "    \"Florence\",\n",
    "    \"Bari\",\n",
    "    \"Catania\",\n",
    "    \"Venice\",\n",
    "    \"Verona\",\n",
    "    \"Messina\",\n",
    "    \"Padua\",\n",
    "    \"Trieste\",\n",
    "    \"Taranto\",\n",
    "    \"Brescia\",\n",
    "    \"Prato\",\n",
    "    \"Parma\",\n",
    "    \"Modena\",\n",
    "]\n",
    "test_problem = np.load('problems/test.npy')"
   ]
  },
  {
   "cell_type": "markdown",
   "id": "bafd1bc9",
   "metadata": {},
   "source": [
    "## Common tests"
   ]
  },
  {
   "cell_type": "code",
   "execution_count": 4,
   "id": "8e905659",
   "metadata": {},
   "outputs": [],
   "source": [
    "problem = np.load('problems/r2_100.npy')"
   ]
  },
  {
   "cell_type": "code",
   "execution_count": 5,
   "id": "83d367fd",
   "metadata": {},
   "outputs": [
    {
     "data": {
      "text/plain": [
       "np.True_"
      ]
     },
     "execution_count": 5,
     "metadata": {},
     "output_type": "execute_result"
    }
   ],
   "source": [
    "# Negative values?\n",
    "np.any(problem < 0)"
   ]
  },
  {
   "cell_type": "code",
   "execution_count": 6,
   "id": "03175c34",
   "metadata": {},
   "outputs": [
    {
     "data": {
      "text/plain": [
       "False"
      ]
     },
     "execution_count": 6,
     "metadata": {},
     "output_type": "execute_result"
    }
   ],
   "source": [
    "# Diagonal is all zero?\n",
    "np.allclose(np.diag(problem), 0.0)"
   ]
  },
  {
   "cell_type": "code",
   "execution_count": 7,
   "id": "a81d846f",
   "metadata": {},
   "outputs": [
    {
     "data": {
      "text/plain": [
       "False"
      ]
     },
     "execution_count": 7,
     "metadata": {},
     "output_type": "execute_result"
    }
   ],
   "source": [
    "# Symmetric matrix?\n",
    "np.allclose(problem, problem.T)"
   ]
  },
  {
   "cell_type": "code",
   "execution_count": 8,
   "id": "159567d4",
   "metadata": {},
   "outputs": [
    {
     "data": {
      "text/plain": [
       "False"
      ]
     },
     "execution_count": 8,
     "metadata": {},
     "output_type": "execute_result"
    }
   ],
   "source": [
    "# Triangular inequality\n",
    "all(\n",
    "    problem[x, y] <= problem[x, z] + problem[z, y]\n",
    "    for x, y, z in list(combinations(range(problem.shape[0]), 3))\n",
    ")"
   ]
  }
 ],
 "metadata": {
  "kernelspec": {
   "display_name": "CI2025_lab2",
   "language": "python",
   "name": "python3"
  },
  "language_info": {
   "codemirror_mode": {
    "name": "ipython",
    "version": 3
   },
   "file_extension": ".py",
   "mimetype": "text/x-python",
   "name": "python",
   "nbconvert_exporter": "python",
   "pygments_lexer": "ipython3",
   "version": "3.14.0"
  }
 },
 "nbformat": 4,
 "nbformat_minor": 5
}
